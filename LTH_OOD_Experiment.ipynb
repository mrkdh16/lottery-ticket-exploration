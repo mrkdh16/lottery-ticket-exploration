{
  "nbformat": 4,
  "nbformat_minor": 0,
  "metadata": {
    "colab": {
      "provenance": [],
      "gpuType": "A100",
      "machine_shape": "hm",
      "authorship_tag": "ABX9TyO6zNVZDTKcDjT2cV5yDoLq",
      "include_colab_link": true
    },
    "kernelspec": {
      "name": "python3",
      "display_name": "Python 3"
    },
    "language_info": {
      "name": "python"
    },
    "accelerator": "GPU"
  },
  "cells": [
    {
      "cell_type": "markdown",
      "metadata": {
        "id": "view-in-github",
        "colab_type": "text"
      },
      "source": [
        "<a href=\"https://colab.research.google.com/github/mrkdh16/lottery-ticket-exploration/blob/main/LTH_OOD_Experiment.ipynb\" target=\"_parent\"><img src=\"https://colab.research.google.com/assets/colab-badge.svg\" alt=\"Open In Colab\"/></a>"
      ]
    },
    {
      "cell_type": "markdown",
      "source": [
        "In this notebook, I aim to test the functional lottery ticket hypothesis presented in [Zhang et al](https://proceedings.mlr.press/v139/zhang21a/zhang21a.pdf): \"[for any full network] there exists a subnetwork that can achieve better OOD and commensurate in-distribution accuracy in a comparable number of iterations when trained in isolation\" using the [MNIST-1D dataset](https://github.com/greydanus/mnist1d?tab=readme-ov-file).\n",
        "\n",
        "Much of the code in this notebook is borrowed from an [example notebook](https://github.com/greydanus/mnist1d/blob/master/notebooks/lottery-tickets.ipynb) from the [MNIST-1D repo](https://github.com/greydanus/mnist1d?tab=readme-ov-file)."
      ],
      "metadata": {
        "id": "YdbXeDP18BM7"
      }
    },
    {
      "cell_type": "code",
      "source": [
        "!python -m pip install git+https://github.com/greydanus/mnist1d.git@master\n",
        "!git clone https://github.com/greydanus/mnist1d"
      ],
      "metadata": {
        "colab": {
          "base_uri": "https://localhost:8080/"
        },
        "collapsed": true,
        "id": "bf5K3R6b8jrZ",
        "outputId": "b66c8e71-f9b5-4571-831e-63e9d73ef18e"
      },
      "execution_count": 1,
      "outputs": [
        {
          "output_type": "stream",
          "name": "stdout",
          "text": [
            "Collecting git+https://github.com/greydanus/mnist1d.git@master\n",
            "  Cloning https://github.com/greydanus/mnist1d.git (to revision master) to /tmp/pip-req-build-a9gcu4wn\n",
            "  Running command git clone --filter=blob:none --quiet https://github.com/greydanus/mnist1d.git /tmp/pip-req-build-a9gcu4wn\n",
            "  Resolved https://github.com/greydanus/mnist1d.git to commit 7878d96082abd200c546a07a4101fa90b30fdf7e\n",
            "  Installing build dependencies ... \u001b[?25l\u001b[?25hdone\n",
            "  Getting requirements to build wheel ... \u001b[?25l\u001b[?25hdone\n",
            "  Preparing metadata (pyproject.toml) ... \u001b[?25l\u001b[?25hdone\n",
            "Requirement already satisfied: requests in /usr/local/lib/python3.11/dist-packages (from mnist1d==0.0.2.post16) (2.32.3)\n",
            "Requirement already satisfied: numpy in /usr/local/lib/python3.11/dist-packages (from mnist1d==0.0.2.post16) (2.0.2)\n",
            "Requirement already satisfied: matplotlib in /usr/local/lib/python3.11/dist-packages (from mnist1d==0.0.2.post16) (3.10.0)\n",
            "Requirement already satisfied: scipy in /usr/local/lib/python3.11/dist-packages (from mnist1d==0.0.2.post16) (1.16.1)\n",
            "Requirement already satisfied: contourpy>=1.0.1 in /usr/local/lib/python3.11/dist-packages (from matplotlib->mnist1d==0.0.2.post16) (1.3.3)\n",
            "Requirement already satisfied: cycler>=0.10 in /usr/local/lib/python3.11/dist-packages (from matplotlib->mnist1d==0.0.2.post16) (0.12.1)\n",
            "Requirement already satisfied: fonttools>=4.22.0 in /usr/local/lib/python3.11/dist-packages (from matplotlib->mnist1d==0.0.2.post16) (4.59.0)\n",
            "Requirement already satisfied: kiwisolver>=1.3.1 in /usr/local/lib/python3.11/dist-packages (from matplotlib->mnist1d==0.0.2.post16) (1.4.8)\n",
            "Requirement already satisfied: packaging>=20.0 in /usr/local/lib/python3.11/dist-packages (from matplotlib->mnist1d==0.0.2.post16) (25.0)\n",
            "Requirement already satisfied: pillow>=8 in /usr/local/lib/python3.11/dist-packages (from matplotlib->mnist1d==0.0.2.post16) (11.3.0)\n",
            "Requirement already satisfied: pyparsing>=2.3.1 in /usr/local/lib/python3.11/dist-packages (from matplotlib->mnist1d==0.0.2.post16) (3.2.3)\n",
            "Requirement already satisfied: python-dateutil>=2.7 in /usr/local/lib/python3.11/dist-packages (from matplotlib->mnist1d==0.0.2.post16) (2.9.0.post0)\n",
            "Requirement already satisfied: charset-normalizer<4,>=2 in /usr/local/lib/python3.11/dist-packages (from requests->mnist1d==0.0.2.post16) (3.4.2)\n",
            "Requirement already satisfied: idna<4,>=2.5 in /usr/local/lib/python3.11/dist-packages (from requests->mnist1d==0.0.2.post16) (3.10)\n",
            "Requirement already satisfied: urllib3<3,>=1.21.1 in /usr/local/lib/python3.11/dist-packages (from requests->mnist1d==0.0.2.post16) (2.5.0)\n",
            "Requirement already satisfied: certifi>=2017.4.17 in /usr/local/lib/python3.11/dist-packages (from requests->mnist1d==0.0.2.post16) (2025.8.3)\n",
            "Requirement already satisfied: six>=1.5 in /usr/local/lib/python3.11/dist-packages (from python-dateutil>=2.7->matplotlib->mnist1d==0.0.2.post16) (1.17.0)\n",
            "Building wheels for collected packages: mnist1d\n",
            "  Building wheel for mnist1d (pyproject.toml) ... \u001b[?25l\u001b[?25hdone\n",
            "  Created wheel for mnist1d: filename=mnist1d-0.0.2.post16-py3-none-any.whl size=14665 sha256=4d70957aa5fa2deb789cee28489bfb95f393218cc83cbfc9dee7ad7801f40874\n",
            "  Stored in directory: /tmp/pip-ephem-wheel-cache-lxlnedir/wheels/7e/c4/e4/1c3e9af5ba2f0004e7850f6070dc4a1c896852c8ac5ca5bb6a\n",
            "Successfully built mnist1d\n",
            "Installing collected packages: mnist1d\n",
            "Successfully installed mnist1d-0.0.2.post16\n",
            "Cloning into 'mnist1d'...\n",
            "remote: Enumerating objects: 541, done.\u001b[K\n",
            "remote: Counting objects: 100% (76/76), done.\u001b[K\n",
            "remote: Compressing objects: 100% (10/10), done.\u001b[K\n",
            "remote: Total 541 (delta 67), reused 66 (delta 66), pack-reused 465 (from 1)\u001b[K\n",
            "Receiving objects: 100% (541/541), 14.54 MiB | 15.37 MiB/s, done.\n",
            "Resolving deltas: 100% (259/259), done.\n"
          ]
        }
      ]
    },
    {
      "cell_type": "code",
      "source": [
        "import numpy as np\n",
        "import matplotlib.pyplot as plt\n",
        "import copy\n",
        "\n",
        "import torch, os\n",
        "import torch.nn as nn\n",
        "import torch.nn.functional as F\n",
        "import torch.optim as optim\n",
        "import time\n",
        "import random\n",
        "from tqdm import tqdm\n",
        "from torch.utils.data import TensorDataset, DataLoader\n",
        "\n",
        "# Try attaching to GPU\n",
        "DEVICE = str(torch.device('cuda' if torch.cuda.is_available() else 'cpu'))\n",
        "print('Using:', DEVICE)"
      ],
      "metadata": {
        "colab": {
          "base_uri": "https://localhost:8080/"
        },
        "id": "DhlcscQv-6cC",
        "outputId": "277fa555-1ed6-4d5b-ec26-6c9f5bed5e40"
      },
      "execution_count": 19,
      "outputs": [
        {
          "output_type": "stream",
          "name": "stdout",
          "text": [
            "Using: cuda\n"
          ]
        }
      ]
    },
    {
      "cell_type": "code",
      "source": [
        "if True:\n",
        "    # Only run this in Colab\n",
        "    from google.colab import drive\n",
        "    drive.mount('/content/gdrive')\n",
        "    project_dir = \"/content/gdrive/My Drive/Research/mnist1d/\"\n",
        "else:\n",
        "    project_dir = './'"
      ],
      "metadata": {
        "colab": {
          "base_uri": "https://localhost:8080/"
        },
        "id": "-dXPucEW-8uR",
        "outputId": "c25028d8-b0da-4ddb-c462-1f971cac64bb"
      },
      "execution_count": 3,
      "outputs": [
        {
          "output_type": "stream",
          "name": "stdout",
          "text": [
            "Mounted at /content/gdrive\n"
          ]
        }
      ]
    },
    {
      "cell_type": "code",
      "source": [
        "from mnist1d.data import get_dataset, get_dataset_args, make_dataset\n",
        "from mnist1d.utils import set_seed, to_pickle, from_pickle\n",
        "\n",
        "import sys ; sys.path.append('./mnist1d/notebooks')\n",
        "from train import get_model_args, train_model"
      ],
      "metadata": {
        "id": "K350QfwG--Vm"
      },
      "execution_count": 4,
      "outputs": []
    },
    {
      "cell_type": "code",
      "source": [
        "class SparseLinear(torch.nn.Module):\n",
        "  def __init__(self, x_size, y_size):\n",
        "    super(SparseLinear, self).__init__()\n",
        "    self.linear = torch.nn.Linear(x_size, y_size)\n",
        "    param_vec = torch.cat([p.flatten() for p in self.parameters()])\n",
        "    self.mask = torch.ones_like(param_vec).to(DEVICE)\n",
        "\n",
        "  def forward(self, x, apply_mask=True):\n",
        "    if apply_mask:\n",
        "      self.apply_mask()\n",
        "    return self.linear(x)\n",
        "\n",
        "  def update_mask(self, new_mask):\n",
        "    self.mask = new_mask\n",
        "    self.apply_mask()\n",
        "\n",
        "  def apply_mask(self):\n",
        "    self.vec2param(self.param2vec())\n",
        "\n",
        "  def param2vec(self):\n",
        "    vec = torch.cat([p.flatten() for p in self.parameters()])\n",
        "    return self.mask * vec\n",
        "\n",
        "  def vec2param(self, vec):\n",
        "    pointer = 0\n",
        "    for param in self.parameters():\n",
        "      param_len = np.cumprod(param.shape)[-1]\n",
        "      new_param = vec[pointer:pointer+param_len].reshape(param.shape)\n",
        "      param.data = new_param.data\n",
        "      pointer += param_len\n",
        "\n",
        "class SparseMLP(torch.nn.Module):\n",
        "  def __init__(self, input_size, output_size, hidden_size=100):\n",
        "    super(SparseMLP, self).__init__()\n",
        "    self.linear1 = SparseLinear(input_size, hidden_size)\n",
        "    self.linear2 = SparseLinear(hidden_size, hidden_size)\n",
        "    self.linear3 = SparseLinear(hidden_size, output_size)\n",
        "    self.layers = [self.linear1, self.linear2, self.linear3]\n",
        "\n",
        "  def forward(self, x):\n",
        "    h = torch.relu(self.linear1(x))\n",
        "    h = h + torch.relu(self.linear2(h))\n",
        "    h = self.linear3(h)\n",
        "    return h\n",
        "\n",
        "  def get_layer_masks(self):\n",
        "    return [l.mask for l in self.layers]\n",
        "\n",
        "  def set_layer_masks(self, new_masks):\n",
        "    for i, l in enumerate(self.layers):\n",
        "      l.update_mask(new_masks[i])\n",
        "\n",
        "  def get_layer_vecs(self):\n",
        "    return [l.param2vec() for l in self.layers]\n",
        "\n",
        "  def set_layer_vecs(self, vecs):\n",
        "    for i, l in enumerate(self.layers):\n",
        "      l.vec2param(vecs[i])\n",
        "\n",
        "  # find a mask, given some heuristic and desired sparsity\n",
        "def get_mask(scores, percent_sparse):\n",
        "  # scores: per-weight scores for determining which weights to drop\n",
        "  # percent_sparse: how much to sparsify the model\n",
        "  num_to_drop = int(percent_sparse * len(scores))\n",
        "  ixs_to_drop = torch.sort(scores)[1][:num_to_drop] # sort from low score to high, select k with lowest score\n",
        "  mask = torch.ones_like(scores)\n",
        "  mask[ixs_to_drop] = 0\n",
        "  return mask"
      ],
      "metadata": {
        "id": "rSC00bYN_CBJ"
      },
      "execution_count": 5,
      "outputs": []
    },
    {
      "cell_type": "code",
      "source": [
        "def set_seed(seed):\n",
        "    random.seed(seed)\n",
        "    np.random.seed(seed)\n",
        "    torch.manual_seed(seed)\n",
        "    torch.cuda.manual_seed_all(seed)"
      ],
      "metadata": {
        "id": "RJSNsOaHrJIt"
      },
      "execution_count": 6,
      "outputs": []
    },
    {
      "cell_type": "code",
      "source": [
        "def accuracy(model, inputs, targets):\n",
        "  preds = model(inputs).argmax(-1).cpu().numpy()\n",
        "  targets = targets.cpu().numpy().astype(np.float32)\n",
        "  return 100*sum(preds==targets)/len(targets)"
      ],
      "metadata": {
        "id": "EdiCNpY60pFt"
      },
      "execution_count": 13,
      "outputs": []
    },
    {
      "cell_type": "code",
      "source": [
        "def train_model(dataset, model, args):\n",
        "  criterion = nn.CrossEntropyLoss()\n",
        "  optimizer = optim.Adam(model.parameters(), args.learning_rate, weight_decay=args.weight_decay)\n",
        "\n",
        "  x_train, x_test = torch.Tensor(dataset['x']), torch.Tensor(dataset['x_test'])\n",
        "  y_train, y_test = torch.LongTensor(dataset['y']), torch.LongTensor(dataset['y_test'])\n",
        "\n",
        "  model = model.to(args.device)\n",
        "  x_train, x_test, y_train, y_test = [v.to(args.device) for v in [x_train, x_test, y_train, y_test]]\n",
        "\n",
        "  results = {'checkpoints':[], 'train_losses':[], 'test_losses':[],'train_acc':[],'test_acc':[]}\n",
        "  # t0 = time.time()\n",
        "  for step in range(args.total_steps+1):\n",
        "      bix = (step*args.batch_size)%len(x_train) # batch index\n",
        "      x, y = x_train[bix:bix+args.batch_size], y_train[bix:bix+args.batch_size]\n",
        "\n",
        "      loss = criterion(model(x), y)\n",
        "      results['train_losses'].append(loss.item())\n",
        "      loss.backward() ; optimizer.step() ; optimizer.zero_grad()\n",
        "\n",
        "      if args.eval_every > 0 and step % args.eval_every == 0: # evaluate the model\n",
        "          test_loss = criterion(model(x_test), y_test)\n",
        "          results['test_losses'].append(test_loss.item())\n",
        "          results['train_acc'].append(accuracy(model, x_train, y_train))\n",
        "          results['test_acc'].append(accuracy(model, x_test, y_test))\n",
        "\n",
        "      # if step > 0 and step % args.print_every == 0: # print out training progress\n",
        "      #     t1 = time.time()\n",
        "      #     print(\"step {}, dt {:.2f}s, train_loss {:.3e}, test_loss {:.3e}, train_acc {:.1f}, test_acc {:.1f}\"\n",
        "      #         .format(step, t1-t0, loss.item(), results['test_losses'][-1], \\\n",
        "      #                 results['train_acc'][-1], results['test_acc'][-1]))\n",
        "      #     t0 = t1\n",
        "\n",
        "      # if args.checkpoint_every > 0 and step % args.checkpoint_every == 0: # save model checkpoints\n",
        "      #     model.step = step\n",
        "      #     results['checkpoints'].append( copy.deepcopy(model) )\n",
        "  results['checkpoints'].append(copy.deepcopy(model))\n",
        "  return results"
      ],
      "metadata": {
        "id": "zUU_7LT4qei7"
      },
      "execution_count": 14,
      "outputs": []
    },
    {
      "cell_type": "code",
      "source": [
        "def find_lottery_ticket(model, dataset, args, sparsity_schedule, criteria_fn=None,\n",
        "                        prune_print_every=None, seed=None, **kwargs):\n",
        "  if seed is not None:\n",
        "    set_seed(seed)\n",
        "\n",
        "  if prune_print_every is None:\n",
        "    prune_print_every = np.inf\n",
        "\n",
        "  if criteria_fn is None:\n",
        "    print(\"Using default magnitude-based pruning\")\n",
        "    criteria_fn = lambda init_params, final_params: final_params.abs()\n",
        "\n",
        "  init_params = model.get_layer_vecs()\n",
        "  stats = {'train_losses':[], 'test_losses':[], 'train_accs':[], 'test_accs':[]}\n",
        "  models = []\n",
        "  for i, percent_sparse in enumerate(sparsity_schedule):\n",
        "\n",
        "    # layer-wise pruning, where pruning heuristic is determined by criteria_fn\n",
        "    final_params = model.get_layer_vecs()\n",
        "    scores = [criteria_fn(ip, fp) for ip, fp in zip(init_params, final_params)]\n",
        "    masks = [get_mask(s, percent_sparse) for s in scores]\n",
        "\n",
        "    # update model with mask and init parameters\n",
        "    model.set_layer_vecs(init_params)\n",
        "    model.set_layer_masks(masks)\n",
        "\n",
        "    # training process\n",
        "    results = train_model(dataset, model, args)\n",
        "    model = results['checkpoints'][-1]\n",
        "\n",
        "    # store stats\n",
        "    stats['train_losses'].append(results['train_losses'])\n",
        "    stats['test_losses'].append(results['test_losses'])\n",
        "    stats['train_accs'].append(results['train_acc'])\n",
        "    stats['test_accs'].append(results['test_acc'])\n",
        "\n",
        "    # print progress\n",
        "    if (i+1) % prune_print_every == 0:\n",
        "      print('\\tretrain #{}, sparsity {:.2f}, final_train_loss {:.3e}, max_acc {:.1f}, last_acc {:.1f}, mean_acc {:.1f}'\n",
        "            .format(i+1, percent_sparse, results['train_losses'][-1], np.max(results['test_acc']),\n",
        "            results['test_acc'][-1], np.mean(results['test_acc']) ))\n",
        "      models.append(copy.deepcopy(model))\n",
        "\n",
        "  stats = {k: np.stack(v) for k, v in stats.items()}\n",
        "  return models, stats"
      ],
      "metadata": {
        "id": "UaEtaEK6pgsI"
      },
      "execution_count": 8,
      "outputs": []
    },
    {
      "cell_type": "code",
      "source": [
        "# train settings\n",
        "model_args = get_model_args()\n",
        "model_args.total_steps = 1501\n",
        "model_args.hidden_size = 500\n",
        "model_args.print_every = 5000 # print never\n",
        "model_args.eval_every = 100\n",
        "model_args.learning_rate = 2e-2\n",
        "model_args.device = DEVICE\n",
        "\n",
        "# sparsity settings\n",
        "num_retrains = 10\n",
        "# sparsity_schedule = np.linspace(0,1.,num_retrains) #1-np.cumprod(np.ones(num_retrains)*tau)/tau # tau = .97\n",
        "sparsity_schedule = np.linspace(0,1.,num_retrains)"
      ],
      "metadata": {
        "id": "gH60zzJrpqCA"
      },
      "execution_count": 16,
      "outputs": []
    },
    {
      "cell_type": "code",
      "source": [
        "args = get_dataset_args()\n",
        "data = get_dataset(args=args)"
      ],
      "metadata": {
        "id": "8b44ZlCL0Y6A",
        "outputId": "baf8317c-77c4-4998-b8c0-d7b46b0f60f5",
        "colab": {
          "base_uri": "https://localhost:8080/"
        }
      },
      "execution_count": 11,
      "outputs": [
        {
          "output_type": "stream",
          "name": "stdout",
          "text": [
            "Downloading MNIST1D dataset from https://github.com/greydanus/mnist1d/raw/master/mnist1d_data.pkl\n",
            "Saving to ./mnist1d_data.pkl\n",
            "Successfully loaded data from ./mnist1d_data.pkl\n"
          ]
        }
      ]
    },
    {
      "cell_type": "code",
      "source": [
        "num_trials = 10\n",
        "trials = {'lott_models': [], 'lott_stats': []}\n",
        "for t in tqdm(range(num_trials)):\n",
        "  set_seed(model_args.seed+t)\n",
        "  model = SparseMLP(model_args.input_size, model_args.output_size, hidden_size=model_args.hidden_size).to(DEVICE)\n",
        "\n",
        "  criteria_fn = lambda init_params, final_params: final_params.abs()\n",
        "  models, stats = find_lottery_ticket(model, data, model_args, sparsity_schedule,\n",
        "                  criteria_fn=criteria_fn, prune_print_every=1)\n",
        "  trials['lott_models'].append(models)\n",
        "  trials['lott_stats'].append(stats)"
      ],
      "metadata": {
        "id": "5L4Q1KKY0M-_",
        "outputId": "8289bae8-13fd-45dd-8257-550215a78121",
        "colab": {
          "base_uri": "https://localhost:8080/"
        }
      },
      "execution_count": 17,
      "outputs": [
        {
          "output_type": "stream",
          "name": "stdout",
          "text": [
            "\tretrain #1, sparsity 0.00, final_train_loss 1.197e-01, max_acc 64.4, last_acc 63.3, mean_acc 57.3\n",
            "\tretrain #2, sparsity 0.11, final_train_loss 3.175e-01, max_acc 66.1, last_acc 66.1, mean_acc 58.9\n",
            "\tretrain #3, sparsity 0.22, final_train_loss 1.947e-01, max_acc 66.6, last_acc 65.6, mean_acc 59.7\n",
            "\tretrain #4, sparsity 0.33, final_train_loss 5.246e-02, max_acc 67.4, last_acc 65.3, mean_acc 60.8\n",
            "\tretrain #5, sparsity 0.44, final_train_loss 1.889e-01, max_acc 66.9, last_acc 66.1, mean_acc 60.8\n",
            "\tretrain #6, sparsity 0.56, final_train_loss 6.789e-02, max_acc 68.3, last_acc 67.9, mean_acc 62.8\n",
            "\tretrain #7, sparsity 0.67, final_train_loss 2.596e-03, max_acc 76.6, last_acc 76.6, mean_acc 67.2\n",
            "\tretrain #8, sparsity 0.78, final_train_loss 1.048e-02, max_acc 74.7, last_acc 72.5, mean_acc 67.3\n",
            "\tretrain #9, sparsity 0.89, final_train_loss 5.137e-02, max_acc 75.2, last_acc 73.1, mean_acc 67.1\n",
            "\tretrain #10, sparsity 1.00, final_train_loss 2.303e+00, max_acc 10.2, last_acc 10.2, mean_acc 10.2\n",
            "\tretrain #1, sparsity 0.00, final_train_loss 1.844e-01, max_acc 66.4, last_acc 66.4, mean_acc 57.6\n",
            "\tretrain #2, sparsity 0.11, final_train_loss 2.727e-01, max_acc 66.5, last_acc 66.5, mean_acc 58.3\n",
            "\tretrain #3, sparsity 0.22, final_train_loss 1.252e-01, max_acc 65.0, last_acc 64.7, mean_acc 59.3\n",
            "\tretrain #4, sparsity 0.33, final_train_loss 1.559e-01, max_acc 67.4, last_acc 66.4, mean_acc 59.8\n",
            "\tretrain #5, sparsity 0.44, final_train_loss 1.344e-01, max_acc 68.9, last_acc 68.9, mean_acc 61.4\n",
            "\tretrain #6, sparsity 0.56, final_train_loss 2.133e-01, max_acc 68.2, last_acc 66.7, mean_acc 61.8\n",
            "\tretrain #7, sparsity 0.67, final_train_loss 7.203e-03, max_acc 69.3, last_acc 69.3, mean_acc 63.0\n",
            "\tretrain #8, sparsity 0.78, final_train_loss 3.378e-01, max_acc 72.6, last_acc 71.3, mean_acc 66.1\n",
            "\tretrain #9, sparsity 0.89, final_train_loss 8.246e-02, max_acc 73.2, last_acc 69.9, mean_acc 65.7\n",
            "\tretrain #10, sparsity 1.00, final_train_loss 2.303e+00, max_acc 10.2, last_acc 10.2, mean_acc 10.2\n",
            "\tretrain #1, sparsity 0.00, final_train_loss 2.723e-01, max_acc 64.8, last_acc 64.8, mean_acc 57.2\n",
            "\tretrain #2, sparsity 0.11, final_train_loss 2.341e-01, max_acc 66.9, last_acc 66.9, mean_acc 59.5\n",
            "\tretrain #3, sparsity 0.22, final_train_loss 2.232e-01, max_acc 66.7, last_acc 66.7, mean_acc 59.1\n",
            "\tretrain #4, sparsity 0.33, final_train_loss 7.147e-02, max_acc 68.7, last_acc 68.7, mean_acc 60.3\n",
            "\tretrain #5, sparsity 0.44, final_train_loss 1.423e-01, max_acc 68.2, last_acc 67.7, mean_acc 62.5\n",
            "\tretrain #6, sparsity 0.56, final_train_loss 6.897e-02, max_acc 68.7, last_acc 68.7, mean_acc 62.0\n",
            "\tretrain #7, sparsity 0.67, final_train_loss 2.685e-01, max_acc 72.4, last_acc 71.0, mean_acc 64.9\n",
            "\tretrain #8, sparsity 0.78, final_train_loss 2.492e-02, max_acc 73.1, last_acc 71.3, mean_acc 65.8\n",
            "\tretrain #9, sparsity 0.89, final_train_loss 7.746e-03, max_acc 73.2, last_acc 73.2, mean_acc 65.7\n",
            "\tretrain #10, sparsity 1.00, final_train_loss 2.303e+00, max_acc 10.2, last_acc 10.2, mean_acc 10.2\n",
            "\tretrain #1, sparsity 0.00, final_train_loss 1.386e-01, max_acc 65.5, last_acc 63.1, mean_acc 57.4\n",
            "\tretrain #2, sparsity 0.11, final_train_loss 2.097e-01, max_acc 65.3, last_acc 64.7, mean_acc 59.0\n",
            "\tretrain #3, sparsity 0.22, final_train_loss 2.790e-01, max_acc 66.5, last_acc 64.0, mean_acc 59.1\n",
            "\tretrain #4, sparsity 0.33, final_train_loss 7.988e-02, max_acc 68.1, last_acc 65.6, mean_acc 60.7\n",
            "\tretrain #5, sparsity 0.44, final_train_loss 1.021e-02, max_acc 68.5, last_acc 65.9, mean_acc 61.5\n",
            "\tretrain #6, sparsity 0.56, final_train_loss 1.088e-01, max_acc 71.0, last_acc 68.7, mean_acc 63.5\n",
            "\tretrain #7, sparsity 0.67, final_train_loss 2.876e-01, max_acc 71.0, last_acc 67.7, mean_acc 63.8\n",
            "\tretrain #8, sparsity 0.78, final_train_loss 2.779e-01, max_acc 73.0, last_acc 71.5, mean_acc 66.0\n",
            "\tretrain #9, sparsity 0.89, final_train_loss 1.375e-02, max_acc 73.9, last_acc 73.0, mean_acc 66.0\n",
            "\tretrain #10, sparsity 1.00, final_train_loss 2.303e+00, max_acc 10.2, last_acc 10.2, mean_acc 10.2\n",
            "\tretrain #1, sparsity 0.00, final_train_loss 1.049e-01, max_acc 66.2, last_acc 66.2, mean_acc 57.9\n",
            "\tretrain #2, sparsity 0.11, final_train_loss 2.636e-01, max_acc 67.5, last_acc 67.5, mean_acc 58.2\n",
            "\tretrain #3, sparsity 0.22, final_train_loss 2.063e-01, max_acc 66.2, last_acc 64.8, mean_acc 59.7\n",
            "\tretrain #4, sparsity 0.33, final_train_loss 1.788e-01, max_acc 66.6, last_acc 63.5, mean_acc 60.3\n",
            "\tretrain #5, sparsity 0.44, final_train_loss 9.154e-02, max_acc 69.7, last_acc 68.8, mean_acc 61.8\n",
            "\tretrain #6, sparsity 0.56, final_train_loss 9.100e-02, max_acc 70.0, last_acc 67.3, mean_acc 63.1\n",
            "\tretrain #7, sparsity 0.67, final_train_loss 1.533e-02, max_acc 70.9, last_acc 69.6, mean_acc 64.7\n",
            "\tretrain #8, sparsity 0.78, final_train_loss 3.561e-04, max_acc 74.4, last_acc 73.9, mean_acc 67.5\n",
            "\tretrain #9, sparsity 0.89, final_train_loss 6.844e-02, max_acc 73.5, last_acc 73.5, mean_acc 66.5\n",
            "\tretrain #10, sparsity 1.00, final_train_loss 2.303e+00, max_acc 10.2, last_acc 10.2, mean_acc 10.2\n",
            "\tretrain #1, sparsity 0.00, final_train_loss 1.922e-01, max_acc 64.9, last_acc 63.4, mean_acc 58.0\n",
            "\tretrain #2, sparsity 0.11, final_train_loss 1.813e-01, max_acc 64.2, last_acc 63.2, mean_acc 58.0\n",
            "\tretrain #3, sparsity 0.22, final_train_loss 2.361e-01, max_acc 66.4, last_acc 65.2, mean_acc 60.5\n",
            "\tretrain #4, sparsity 0.33, final_train_loss 5.287e-02, max_acc 66.7, last_acc 66.7, mean_acc 60.2\n",
            "\tretrain #5, sparsity 0.44, final_train_loss 2.074e-02, max_acc 69.1, last_acc 67.9, mean_acc 61.5\n",
            "\tretrain #6, sparsity 0.56, final_train_loss 3.630e-02, max_acc 68.8, last_acc 66.4, mean_acc 63.1\n",
            "\tretrain #7, sparsity 0.67, final_train_loss 2.976e-01, max_acc 70.7, last_acc 70.7, mean_acc 65.0\n",
            "\tretrain #8, sparsity 0.78, final_train_loss 5.798e-02, max_acc 74.4, last_acc 72.2, mean_acc 66.5\n",
            "\tretrain #9, sparsity 0.89, final_train_loss 9.027e-02, max_acc 72.2, last_acc 70.7, mean_acc 65.7\n",
            "\tretrain #10, sparsity 1.00, final_train_loss 2.303e+00, max_acc 10.2, last_acc 10.2, mean_acc 10.2\n",
            "\tretrain #1, sparsity 0.00, final_train_loss 4.212e-01, max_acc 64.7, last_acc 64.7, mean_acc 57.2\n",
            "\tretrain #2, sparsity 0.11, final_train_loss 3.142e-01, max_acc 67.7, last_acc 65.9, mean_acc 59.4\n",
            "\tretrain #3, sparsity 0.22, final_train_loss 9.388e-02, max_acc 67.0, last_acc 66.7, mean_acc 60.1\n",
            "\tretrain #4, sparsity 0.33, final_train_loss 6.650e-02, max_acc 66.4, last_acc 66.1, mean_acc 60.0\n",
            "\tretrain #5, sparsity 0.44, final_train_loss 4.855e-02, max_acc 67.6, last_acc 65.8, mean_acc 61.8\n",
            "\tretrain #6, sparsity 0.56, final_train_loss 1.724e-01, max_acc 69.4, last_acc 67.1, mean_acc 62.6\n",
            "\tretrain #7, sparsity 0.67, final_train_loss 2.625e-02, max_acc 70.6, last_acc 69.6, mean_acc 64.4\n",
            "\tretrain #8, sparsity 0.78, final_train_loss 1.603e-01, max_acc 72.6, last_acc 72.6, mean_acc 66.2\n",
            "\tretrain #9, sparsity 0.89, final_train_loss 2.156e-02, max_acc 75.2, last_acc 75.2, mean_acc 66.3\n",
            "\tretrain #10, sparsity 1.00, final_train_loss 2.303e+00, max_acc 10.2, last_acc 10.2, mean_acc 10.2\n",
            "\tretrain #1, sparsity 0.00, final_train_loss 2.214e-01, max_acc 66.9, last_acc 65.0, mean_acc 57.8\n",
            "\tretrain #2, sparsity 0.11, final_train_loss 1.231e-01, max_acc 66.0, last_acc 66.0, mean_acc 58.9\n",
            "\tretrain #3, sparsity 0.22, final_train_loss 1.816e-01, max_acc 67.0, last_acc 67.0, mean_acc 59.3\n",
            "\tretrain #4, sparsity 0.33, final_train_loss 2.577e-01, max_acc 67.0, last_acc 67.0, mean_acc 60.6\n",
            "\tretrain #5, sparsity 0.44, final_train_loss 1.436e-01, max_acc 67.1, last_acc 64.6, mean_acc 60.6\n",
            "\tretrain #6, sparsity 0.56, final_train_loss 4.484e-02, max_acc 68.7, last_acc 68.7, mean_acc 62.1\n",
            "\tretrain #7, sparsity 0.67, final_train_loss 6.316e-02, max_acc 70.7, last_acc 70.2, mean_acc 64.4\n",
            "\tretrain #8, sparsity 0.78, final_train_loss 6.803e-02, max_acc 73.8, last_acc 70.0, mean_acc 65.9\n",
            "\tretrain #9, sparsity 0.89, final_train_loss 2.357e-02, max_acc 73.3, last_acc 73.3, mean_acc 65.9\n",
            "\tretrain #10, sparsity 1.00, final_train_loss 2.303e+00, max_acc 10.2, last_acc 10.2, mean_acc 10.2\n",
            "\tretrain #1, sparsity 0.00, final_train_loss 1.087e-01, max_acc 66.0, last_acc 66.0, mean_acc 57.8\n",
            "\tretrain #2, sparsity 0.11, final_train_loss 7.903e-02, max_acc 66.1, last_acc 66.1, mean_acc 59.5\n",
            "\tretrain #3, sparsity 0.22, final_train_loss 1.717e-01, max_acc 66.5, last_acc 66.1, mean_acc 59.5\n",
            "\tretrain #4, sparsity 0.33, final_train_loss 1.135e-01, max_acc 67.6, last_acc 64.4, mean_acc 61.0\n",
            "\tretrain #5, sparsity 0.44, final_train_loss 1.491e-01, max_acc 69.2, last_acc 66.1, mean_acc 61.7\n",
            "\tretrain #6, sparsity 0.56, final_train_loss 8.095e-02, max_acc 69.4, last_acc 68.8, mean_acc 61.0\n",
            "\tretrain #7, sparsity 0.67, final_train_loss 8.025e-03, max_acc 70.3, last_acc 70.3, mean_acc 63.7\n",
            "\tretrain #8, sparsity 0.78, final_train_loss 5.163e-02, max_acc 73.1, last_acc 73.0, mean_acc 66.1\n",
            "\tretrain #9, sparsity 0.89, final_train_loss 7.316e-02, max_acc 72.3, last_acc 71.0, mean_acc 65.5\n",
            "\tretrain #10, sparsity 1.00, final_train_loss 2.303e+00, max_acc 10.2, last_acc 10.2, mean_acc 10.2\n",
            "\tretrain #1, sparsity 0.00, final_train_loss 2.934e-01, max_acc 63.1, last_acc 62.2, mean_acc 56.7\n",
            "\tretrain #2, sparsity 0.11, final_train_loss 1.439e-01, max_acc 66.0, last_acc 64.8, mean_acc 59.0\n",
            "\tretrain #3, sparsity 0.22, final_train_loss 1.553e-01, max_acc 66.8, last_acc 65.6, mean_acc 60.1\n",
            "\tretrain #4, sparsity 0.33, final_train_loss 1.121e-01, max_acc 67.1, last_acc 65.1, mean_acc 61.2\n",
            "\tretrain #5, sparsity 0.44, final_train_loss 4.126e-01, max_acc 68.9, last_acc 65.3, mean_acc 61.5\n",
            "\tretrain #6, sparsity 0.56, final_train_loss 2.219e-01, max_acc 68.3, last_acc 66.5, mean_acc 62.6\n",
            "\tretrain #7, sparsity 0.67, final_train_loss 7.247e-03, max_acc 71.0, last_acc 69.6, mean_acc 63.8\n",
            "\tretrain #8, sparsity 0.78, final_train_loss 3.251e-02, max_acc 70.9, last_acc 70.4, mean_acc 64.7\n",
            "\tretrain #9, sparsity 0.89, final_train_loss 4.099e-02, max_acc 73.2, last_acc 72.8, mean_acc 66.9\n",
            "\tretrain #10, sparsity 1.00, final_train_loss 2.303e+00, max_acc 10.2, last_acc 10.2, mean_acc 10.2\n"
          ]
        }
      ]
    },
    {
      "cell_type": "code",
      "source": [
        "def average_over(trials, trial_name, key):\n",
        "  ys = [trials[trial_name][i][key] for i in range(len(trials[trial_name]))]\n",
        "  return np.stack(ys).mean(0), np.stack(ys).std(0) / np.sqrt(len(ys))\n",
        "\n",
        "x = sparsity_schedule\n",
        "rand_color, lott_color = 'r', 'b'\n",
        "fig = plt.figure(figsize=[8,3], dpi=200)\n",
        "\n",
        "# plt.subplot(1,2,1)\n",
        "# y, y_err = average_over(trials, 'lott_stats', 'test_losses')\n",
        "# y, y_err = y[:,-1], y_err[:,-1]\n",
        "# plt.plot(x, y, '-', color=lott_color, label='lottery') ; plt.fill_between(x, y-y_err, y+y_err, color=lott_color, alpha=0.25)\n",
        "# plt.plot(x, np.ones_like(x) * y[0], 'k--', label='dense')\n",
        "# plt.xlabel('Sparsity') ; plt.title('Final test loss')\n",
        "# plt.yscale('log')\n",
        "# plt.ylim(None, 5e0)\n",
        "# plt.legend(fontsize=7, ncol=3, loc='upper left')\n",
        "\n",
        "plt.subplot(1,2,2)\n",
        "y, y_err = average_over(trials, 'lott_stats', 'test_accs')\n",
        "y, y_err = y[:,-1], y_err[:,-1]\n",
        "plt.plot(x, y, '-', color=lott_color, label='lottery') ; plt.fill_between(x, y-y_err, y+y_err, color=lott_color, alpha=0.25)\n",
        "plt.plot(x, np.ones_like(x) * y[0], 'k--', label='dense')\n",
        "plt.xlabel('Sparsity') ; plt.title('Final test accuracy')\n",
        "plt.ylim(55, 80) #plt.ylim(70, 85)\n",
        "plt.legend(fontsize=7, ncol=3, loc='upper left')\n",
        "\n",
        "# plt.subplot(1,3,3)\n",
        "# y, y_err = average_over(trials, 'rand_stats', 'test_accs')\n",
        "# y, y_err = y.max(-1), y_err[range(y.shape[0]),y.argmax(-1)]\n",
        "# plt.plot(x, y, '-', color=rand_color, label='random') ; plt.fill_between(x, y-y_err, y+y_err, color=rand_color, alpha=0.25)\n",
        "# y, y_err = average_over(trials, 'lott_stats', 'test_accs')\n",
        "# y, y_err = y.max(-1), y_err[range(y.shape[0]),y.argmax(-1)]\n",
        "# plt.plot(x, y, '-', color=lott_color, label='lottery') ; plt.fill_between(x, y-y_err, y+y_err, color=lott_color, alpha=0.25)\n",
        "# plt.plot(x, np.ones_like(x) * y[0], 'k--', label='dense')\n",
        "# plt.xlabel('Sparsity') ; plt.title('Max test accuracy')\n",
        "# plt.ylim(55, 80) #plt.ylim(55, 75)\n",
        "# plt.legend(fontsize=7, ncol=3, loc='upper left')\n",
        "\n",
        "plt.show()\n",
        "\n",
        "# os.makedirs(project_dir + 'figures/', exist_ok=True)\n",
        "# fig.savefig(project_dir + 'figures/lottery.png')\n",
        "# fig.savefig(project_dir + 'figures/lottery.pdf')"
      ],
      "metadata": {
        "id": "E8fCNznLzftX",
        "outputId": "14e8fc80-a91d-41ce-e952-7ad020fe7fd5",
        "colab": {
          "base_uri": "https://localhost:8080/",
          "height": 648
        }
      },
      "execution_count": 18,
      "outputs": [
        {
          "output_type": "display_data",
          "data": {
            "text/plain": [
              "<Figure size 1600x600 with 1 Axes>"
            ],
            "image/png": "[encoded data removed]"
          },
          "metadata": {}
        }
      ]
    },
    {
      "cell_type": "code",
      "source": [
        "def evaluate_model(model, dataset, device):\n",
        "    model.eval()\n",
        "    inputs = torch.tensor(dataset['x_test'], dtype=torch.float32).to(device)\n",
        "    labels = torch.tensor(dataset['y_test'], dtype=torch.int64).to(device)\n",
        "    test_dataset = TensorDataset(inputs, labels)\n",
        "    test_loader = DataLoader(test_dataset, batch_size=model_args.batch_size, shuffle=False)\n",
        "\n",
        "    total_loss = 0\n",
        "    correct_predictions = 0\n",
        "    total_samples = 0\n",
        "\n",
        "    with torch.no_grad():\n",
        "        for inputs, labels in test_loader:\n",
        "            outputs = model(inputs)\n",
        "            loss = F.cross_entropy(outputs, labels)\n",
        "            total_loss += loss.item() * inputs.size(0)\n",
        "            _, predicted = torch.max(outputs.data, 1)\n",
        "            correct_predictions += (predicted == labels).sum().item()\n",
        "            total_samples += labels.size(0)\n",
        "\n",
        "    avg_loss = total_loss / total_samples\n",
        "    accuracy = (correct_predictions / total_samples) * 100\n",
        "    return {'test_loss': avg_loss, 'test_acc': accuracy}"
      ],
      "metadata": {
        "id": "6Hyf81MZ0bhY"
      },
      "execution_count": 20,
      "outputs": []
    },
    {
      "cell_type": "code",
      "source": [],
      "metadata": {
        "id": "j4I6_x442-HB"
      },
      "execution_count": null,
      "outputs": []
    }
  ]
}